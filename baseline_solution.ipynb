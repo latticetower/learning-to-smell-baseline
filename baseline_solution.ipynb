{
 "cells": [
  {
   "cell_type": "code",
   "execution_count": 1,
   "metadata": {},
   "outputs": [],
   "source": [
    "import os\n",
    "import pandas as pd\n",
    "import numpy as np\n",
    "from sklearn.neighbors import NearestNeighbors"
   ]
  },
  {
   "cell_type": "code",
   "execution_count": 2,
   "metadata": {},
   "outputs": [],
   "source": [
    "train = pd.read_csv(\"data/train.csv\")\n",
    "test = pd.read_csv(\"data/test.csv\")\n",
    "vocab = pd.read_csv(\"data/vocabulary.txt\", header=None)"
   ]
  },
  {
   "cell_type": "markdown",
   "metadata": {},
   "source": [
    "I used precomputed fingerprints from PubChem. To reproduce, you can run `python download_data_from_pubchem.py`, however it takes some time."
   ]
  },
  {
   "cell_type": "code",
   "execution_count": 3,
   "metadata": {},
   "outputs": [],
   "source": [
    "fingerprints = pd.read_csv(\"pubchem_fingerprints.csv\")"
   ]
  },
  {
   "cell_type": "code",
   "execution_count": 4,
   "metadata": {},
   "outputs": [
    {
     "name": "stdout",
     "output_type": "stream",
     "text": [
      "33 train molecules have no associated fingerprint\n",
      "5 test molecules have no associated fingerprint\n"
     ]
    }
   ],
   "source": [
    "train_df = train.merge(fingerprints, on=\"SMILES\", how=\"left\")\n",
    "test_df = test.merge(fingerprints, on=\"SMILES\", how=\"left\")\n",
    "print(train_df.fingerprint.isnull().sum(), \"train molecules have no associated fingerprint\")\n",
    "print(test_df.fingerprint.isnull().sum(), \"test molecules have no associated fingerprint\")"
   ]
  },
  {
   "cell_type": "markdown",
   "metadata": {},
   "source": [
    "I use only molecules which have fingerprint available to find k nearest neighbours, that's why I filter both train and test data and use unpacked fingerprints to compute K nearest neighbours. "
   ]
  },
  {
   "cell_type": "code",
   "execution_count": 5,
   "metadata": {},
   "outputs": [],
   "source": [
    "def to_bits(x):\n",
    "    try:\n",
    "        unpacked = np.unpackbits(np.frombuffer(bytes.fromhex(x), dtype=np.uint8))\n",
    "    except Exception as e:\n",
    "        print(e)\n",
    "        print(x)\n",
    "        \n",
    "    return unpacked\n",
    "\n",
    "\n",
    "train_df = train_df[~train_df.fingerprint.isnull()]\n",
    "train_fingerprints = train_df.fingerprint.apply(to_bits)#lambda fingerprint_string: [x=='1' for x in fingerprint_string])\n",
    "train_fingerprints = np.stack(train_fingerprints.values)\n",
    "\n",
    "test_df = test_df[~test_df.fingerprint.isnull()]\n",
    "test_fingerprints = test_df.fingerprint.apply(to_bits)#lambda fingerprint_string: [x=='1' for x in fingerprint_string])\n",
    "test_fingerprints = np.stack(test_fingerprints.values)"
   ]
  },
  {
   "cell_type": "code",
   "execution_count": 6,
   "metadata": {},
   "outputs": [],
   "source": [
    "nbrs = NearestNeighbors(n_neighbors=5, algorithm='ball_tree').fit(train_fingerprints)\n",
    "distances, neighbour_indices = nbrs.kneighbors(test_fingerprints)"
   ]
  },
  {
   "cell_type": "code",
   "execution_count": 7,
   "metadata": {},
   "outputs": [],
   "source": [
    "for i, neighbours in zip(test_df.index, neighbour_indices):\n",
    "    test.loc[i, \"PREDICTIONS\"] = \";\".join([train.loc[train_df.index[x], \"SENTENCE\"] for x in neighbours])"
   ]
  },
  {
   "cell_type": "code",
   "execution_count": 8,
   "metadata": {},
   "outputs": [
    {
     "data": {
      "text/plain": [
       "5"
      ]
     },
     "execution_count": 8,
     "metadata": {},
     "output_type": "execute_result"
    }
   ],
   "source": [
    "test.PREDICTIONS.isnull().sum()"
   ]
  },
  {
   "cell_type": "markdown",
   "metadata": {},
   "source": [
    "We still need to fill several predictions, for this we use top-5 most common molecular scents from train dataset."
   ]
  },
  {
   "cell_type": "code",
   "execution_count": 9,
   "metadata": {},
   "outputs": [
    {
     "data": {
      "text/plain": [
       "odorless    57\n",
       "mint        36\n",
       "fruity      32\n",
       "woody       28\n",
       "oily        24\n",
       "Name: SENTENCE, dtype: int64"
      ]
     },
     "execution_count": 9,
     "metadata": {},
     "output_type": "execute_result"
    }
   ],
   "source": [
    "train.SENTENCE.value_counts()[:5]"
   ]
  },
  {
   "cell_type": "code",
   "execution_count": 10,
   "metadata": {},
   "outputs": [],
   "source": [
    "default_prediction = \";\".join(train.SENTENCE.value_counts()[:5].index)"
   ]
  },
  {
   "cell_type": "code",
   "execution_count": 11,
   "metadata": {},
   "outputs": [],
   "source": [
    "test.loc[test.PREDICTIONS.isnull(), \"PREDICTIONS\"] = default_prediction"
   ]
  },
  {
   "cell_type": "code",
   "execution_count": 12,
   "metadata": {},
   "outputs": [],
   "source": [
    "test.to_csv(\"baseline_submission.csv\", index=None)"
   ]
  },
  {
   "cell_type": "code",
   "execution_count": null,
   "metadata": {},
   "outputs": [],
   "source": []
  }
 ],
 "metadata": {
  "kernelspec": {
   "display_name": "Python 3",
   "language": "python",
   "name": "python3"
  },
  "language_info": {
   "codemirror_mode": {
    "name": "ipython",
    "version": 3
   },
   "file_extension": ".py",
   "mimetype": "text/x-python",
   "name": "python",
   "nbconvert_exporter": "python",
   "pygments_lexer": "ipython3",
   "version": "3.7.3"
  }
 },
 "nbformat": 4,
 "nbformat_minor": 2
}
